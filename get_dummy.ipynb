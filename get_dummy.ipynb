{
 "cells": [
  {
   "cell_type": "code",
   "execution_count": 83,
   "metadata": {},
   "outputs": [],
   "source": [
    "import numpy as np"
   ]
  },
  {
   "cell_type": "code",
   "execution_count": 84,
   "metadata": {},
   "outputs": [],
   "source": [
    "dummy = np.random.randint(1, 100, (16, 4,10))/100"
   ]
  },
  {
   "cell_type": "code",
   "execution_count": 85,
   "metadata": {},
   "outputs": [],
   "source": [
    "m = ['gain', 'fmin' ,'amin', 'zero']\n",
    "c = ['light', 'nn', 'svmnl', 'svml']"
   ]
  },
  {
   "cell_type": "code",
   "execution_count": 100,
   "metadata": {},
   "outputs": [],
   "source": [
    "# heads = [ i +'_'+ j for i in ['light', 'nn', 'svmnl', 'svml'] for j in ['gain', 'fmin' ,'amin', 'zero']]\n",
    "heads = [ str(i) +'_'+ str(j) for i in range(1,5) for j in [3,5,7,9]]"
   ]
  },
  {
   "cell_type": "code",
   "execution_count": 101,
   "metadata": {},
   "outputs": [],
   "source": [
    "dictionary = {key:value.tolist() for key,value in zip(heads,dummy)}"
   ]
  },
  {
   "cell_type": "code",
   "execution_count": 102,
   "metadata": {},
   "outputs": [],
   "source": [
    "# dictionary"
   ]
  },
  {
   "cell_type": "code",
   "execution_count": 103,
   "metadata": {},
   "outputs": [],
   "source": [
    "\n",
    "import json  \n",
    "     \n",
    "# Data to be written  \n",
    "     \n",
    "with open(\"dummy.json\", \"w\") as outfile:  \n",
    "    json.dump(dictionary, outfile) \n"
   ]
  },
  {
   "cell_type": "code",
   "execution_count": 104,
   "metadata": {},
   "outputs": [
    {
     "data": {
      "text/plain": [
       "['1_3',\n",
       " '1_5',\n",
       " '1_7',\n",
       " '1_9',\n",
       " '2_3',\n",
       " '2_5',\n",
       " '2_7',\n",
       " '2_9',\n",
       " '3_3',\n",
       " '3_5',\n",
       " '3_7',\n",
       " '3_9',\n",
       " '4_3',\n",
       " '4_5',\n",
       " '4_7',\n",
       " '4_9']"
      ]
     },
     "execution_count": 104,
     "metadata": {},
     "output_type": "execute_result"
    }
   ],
   "source": [
    "[ str(i) +'_'+ str(j) for i in range(1,5) for j in [3,5,7,9]]"
   ]
  },
  {
   "cell_type": "code",
   "execution_count": null,
   "metadata": {},
   "outputs": [],
   "source": []
  }
 ],
 "metadata": {
  "kernelspec": {
   "display_name": "Python 3",
   "language": "python",
   "name": "python3"
  },
  "language_info": {
   "codemirror_mode": {
    "name": "ipython",
    "version": 3
   },
   "file_extension": ".py",
   "mimetype": "text/x-python",
   "name": "python",
   "nbconvert_exporter": "python",
   "pygments_lexer": "ipython3",
   "version": "3.8.5"
  }
 },
 "nbformat": 4,
 "nbformat_minor": 4
}
